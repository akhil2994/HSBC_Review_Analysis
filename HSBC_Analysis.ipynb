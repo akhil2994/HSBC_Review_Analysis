{
 "cells": [
  {
   "cell_type": "code",
   "execution_count": 2,
   "metadata": {},
   "outputs": [
    {
     "name": "stderr",
     "output_type": "stream",
     "text": [
      "Using TensorFlow backend.\n"
     ]
    }
   ],
   "source": [
    "import string\n",
    "import pandas as pd\n",
    "from datetime import datetime\n",
    "from bs4 import BeautifulSoup\n",
    "from urllib.request import urlopen, Request\n",
    "import matplotlib.pyplot as plt\n",
    "import tensorflow as tf\n",
    "from nltk import FreqDist\n",
    "from nltk import word_tokenize\n",
    "from keras.models import Model\n",
    "from wordcloud import WordCloud\n",
    "from nltk.corpus import stopwords\n",
    "#from trustpilot import get_data\n",
    "from nltk.stem import PorterStemmer\n",
    "from keras.utils import to_categorical\n",
    "from keras.preprocessing import sequence\n",
    "from keras.callbacks import EarlyStopping\n",
    "from keras.preprocessing.text import Tokenizer\n",
    "from sklearn.model_selection import train_test_split\n",
    "from keras.layers import LSTM, Input, Dense, Dropout, Activation, Embedding"
   ]
  },
  {
   "cell_type": "code",
   "execution_count": 3,
   "metadata": {},
   "outputs": [],
   "source": [
    "def clean_str(s):\n",
    "    s.replace('  ', '').replace('\\n', '')\n",
    "    return s\n",
    "\n",
    "\n",
    "def clean_date_time(found_time):\n",
    "    found_time = found_time[19:38].replace('T', ' ')\n",
    "    return datetime.strptime(found_time, '%Y-%m-%d %H:%M:%S')"
   ]
  },
  {
   "cell_type": "code",
   "execution_count": 4,
   "metadata": {},
   "outputs": [],
   "source": [
    "def get_data(url, page):\n",
    "    user_name = []\n",
    "    review_count = []\n",
    "    review_score = []\n",
    "    time_of_review = []\n",
    "    review_title = []\n",
    "    review_str = []\n",
    "\n",
    "    for p in range(page):\n",
    "\n",
    "        url_changer = url + str(p + 1)\n",
    "        data = urlopen(Request(url_changer))\n",
    "        soup_data = BeautifulSoup(data, 'html.parser')\n",
    "\n",
    "        user_name_finder = soup_data.find_all('div', class_='consumer-information__name')\n",
    "        review_count_finder = soup_data.find_all('div', class_='consumer-information__review-count')\n",
    "        review_score_finder = soup_data.find_all(name='script', attrs={'type':'application/json', 'data-initial-state':'review-info'})\n",
    "        time_of_review_finder = soup_data.find_all('script', attrs={'type': 'application/json', 'data-initial-state': 'review-dates'})\n",
    "        review_title_finder = soup_data.find_all('h2', class_='review-content__title')\n",
    "        review_str_finder = soup_data.find_all('p', class_='review-content__text')\n",
    "\n",
    "        for i in range(len(user_name_finder)):\n",
    "\n",
    "            name = clean_str(user_name_finder[i].text)\n",
    "            review = int(review_count_finder[i].span.text[:-7])\n",
    "            score = int(review_score_finder[i].text[-3])\n",
    "            tempdate = clean_date_time(time_of_review_finder[i].text)\n",
    "            title = review_title_finder[i].a.text\n",
    "            comment = clean_str(review_str_finder[i].text)\n",
    "\n",
    "            user_name.append(name)\n",
    "            review_count.append(review)\n",
    "            review_score.append(score)\n",
    "            time_of_review.append(tempdate)\n",
    "            review_title.append(title)\n",
    "            review_str.append(comment)\n",
    "\n",
    "    hsbc_scrape = pd.DataFrame(data=[time_of_review, review_count, review_score, review_title, review_str],\n",
    "                      columns=user_name)\n",
    "    hsbc_scrape = hsbc_scrape.T\n",
    "    hsbc_scrape.columns = ['time_of_review', 'review_count', 'review_score', 'review_title', 'reviews']\n",
    "\n",
    "    return hsbc_scrape"
   ]
  },
  {
   "cell_type": "code",
   "execution_count": 5,
   "metadata": {},
   "outputs": [],
   "source": [
    "def remove_stop_words(words):\n",
    "    return [x for x in words if x not in stop_words]\n",
    "\n",
    "\n",
    "def remove_punctuate(words):\n",
    "    return [x for x in words if x not in punctuate]\n",
    "\n",
    "\n",
    "def stem_words(words):\n",
    "    return [stemmer.stem(x) for x in words]"
   ]
  },
  {
   "cell_type": "code",
   "execution_count": 6,
   "metadata": {},
   "outputs": [],
   "source": [
    "stemmer = PorterStemmer()\n",
    "\n",
    "punctuate = list(string.punctuation)\n",
    "punctuate.append('...')\n",
    "punctuate.append('’')\n",
    "punctuate.append(\"''\")\n",
    "punctuate.append('``')\n",
    "\n",
    "stop_words = stopwords.words('english')\n",
    "stop_words.append('ca')\n",
    "stop_words.append('n\\'t')\n",
    "stop_words.append('\\'s')\n",
    "stop_words.append('\\'re')\n",
    "stop_words.append('\\'ve')\n",
    "stop_words.append('\\'m')\n",
    "stop_words.append('\\'d')\n",
    "stop_words = set(stop_words)"
   ]
  },
  {
   "cell_type": "code",
   "execution_count": 7,
   "metadata": {},
   "outputs": [],
   "source": [
    "#Read dataframe from trustpilot website\n",
    "hsbc_data = get_data(url = 'https://www.trustpilot.com/review/www.hsbc.co.uk?page=', page = 80)"
   ]
  },
  {
   "cell_type": "code",
   "execution_count": 8,
   "metadata": {},
   "outputs": [],
   "source": [
    "# creating target columns -> rating\n",
    "hsbc_data['rating'] = hsbc_data['review_score'].map(lambda x: 0 if x < 3 else (1 if x == 3 else 2))\n",
    "count_rating = hsbc_data['rating'].value_counts()\n",
    "class_weight = {0: 1, 1: 50, 2: 14}"
   ]
  },
  {
   "cell_type": "code",
   "execution_count": 9,
   "metadata": {},
   "outputs": [],
   "source": [
    "#Convert all reviews to lowercase\n",
    "hsbc_data['reviews'] = hsbc_data['reviews'].map(lambda x: x if type(x) != str else x.lower())\n",
    "\n",
    "#Convert reviews to stream of tokens\n",
    "hsbc_data['reviews'] = hsbc_data['reviews'].apply(word_tokenize)\n",
    "\n",
    "#Remove punctuation marks from the comments\n",
    "hsbc_data['reviews'] = hsbc_data['reviews'].apply(remove_punctuate)\n",
    "\n",
    "#Extract stop words from the comments\n",
    "hsbc_data['reviews'] = hsbc_data['reviews'].apply(remove_stop_words)"
   ]
  },
  {
   "cell_type": "code",
   "execution_count": 10,
   "metadata": {},
   "outputs": [],
   "source": [
    "all_tokens = []\n",
    "for i in hsbc_data['reviews']:\n",
    "    for x in i:\n",
    "        all_tokens.append(x)"
   ]
  },
  {
   "cell_type": "code",
   "execution_count": 11,
   "metadata": {},
   "outputs": [
    {
     "data": {
      "image/png": "[encoded data removed]",
      "text/plain": [
       "<Figure size 720x432 with 1 Axes>"
      ]
     },
     "metadata": {
      "needs_background": "light"
     },
     "output_type": "display_data"
    }
   ],
   "source": [
    "#Frequency of top 30 common words\n",
    "freq_words = FreqDist(all_tokens)\n",
    "plt.figure(figsize=(10,6))\n",
    "plt.title('Frequency of common words in Reviews')\n",
    "freq_words.plot(40, color='g')"
   ]
  },
  {
   "cell_type": "code",
   "execution_count": 12,
   "metadata": {},
   "outputs": [],
   "source": [
    "#Stemming to normalise and couple sentences with same meaning\n",
    "hsbc_data['reviews'] = hsbc_data['reviews'].apply(stem_words)"
   ]
  },
  {
   "cell_type": "markdown",
   "metadata": {},
   "source": [
    "**LSTM Model**"
   ]
  },
  {
   "cell_type": "code",
   "execution_count": 13,
   "metadata": {},
   "outputs": [],
   "source": [
    "X_independent = hsbc_data['reviews']\n",
    "y_dependent = hsbc_data['rating']"
   ]
  },
  {
   "cell_type": "code",
   "execution_count": 14,
   "metadata": {},
   "outputs": [],
   "source": [
    "X_train, X_test, y_train, y_test = train_test_split(X_independent, y_dependent, test_size=0.2)"
   ]
  },
  {
   "cell_type": "code",
   "execution_count": 15,
   "metadata": {},
   "outputs": [],
   "source": [
    "max_words = 1000\n",
    "max_length = 300\n",
    "token = Tokenizer(num_words = max_words)\n",
    "token.fit_on_texts(X_train)\n",
    "sequences = token.texts_to_sequences(X_train)\n",
    "sequences_matrix = sequence.pad_sequences(sequences, maxlen = max_length)"
   ]
  },
  {
   "cell_type": "code",
   "execution_count": 16,
   "metadata": {},
   "outputs": [],
   "source": [
    "def Recurrent_NN():\n",
    "    inputs = Input(name='inputs', shape=[max_length])\n",
    "    layer = Embedding(input_dim = max_words, output_dim = 50)(inputs)\n",
    "    layer = LSTM(64)(layer)\n",
    "    layer = Dense(256)(layer)\n",
    "    layer = Activation('relu')(layer)\n",
    "    layer = Dense(1, name = 'out_layer')(layer)\n",
    "    layer = Activation('sigmoid')(layer)\n",
    "    model = Model(inputs = inputs, outputs = layer)\n",
    "    return model"
   ]
  },
  {
   "cell_type": "code",
   "execution_count": 17,
   "metadata": {},
   "outputs": [
    {
     "name": "stdout",
     "output_type": "stream",
     "text": [
      "WARNING:tensorflow:From C:\\anaconda3\\lib\\site-packages\\tensorflow\\python\\ops\\resource_variable_ops.py:435: colocate_with (from tensorflow.python.framework.ops) is deprecated and will be removed in a future version.\n",
      "Instructions for updating:\n",
      "Colocations handled automatically by placer.\n"
     ]
    }
   ],
   "source": [
    "data_model = Recurrent_NN()"
   ]
  },
  {
   "cell_type": "code",
   "execution_count": 18,
   "metadata": {},
   "outputs": [
    {
     "name": "stdout",
     "output_type": "stream",
     "text": [
      "WARNING:tensorflow:From C:\\anaconda3\\lib\\site-packages\\tensorflow\\python\\ops\\math_ops.py:3066: to_int32 (from tensorflow.python.ops.math_ops) is deprecated and will be removed in a future version.\n",
      "Instructions for updating:\n",
      "Use tf.cast instead.\n",
      "Train on 1024 samples, validate on 256 samples\n",
      "Epoch 1/10\n",
      "1024/1024 [==============================] - 8s 8ms/step - loss: 2.0051 - accuracy: 0.0752 - val_loss: 1.8859 - val_accuracy: 0.0234\n",
      "Epoch 2/10\n",
      "1024/1024 [==============================] - 6s 5ms/step - loss: 0.9258 - accuracy: 0.0186 - val_loss: -2.0398 - val_accuracy: 0.0234\n",
      "Epoch 3/10\n",
      "1024/1024 [==============================] - 6s 6ms/step - loss: -2.1987 - accuracy: 0.0186 - val_loss: -5.3146 - val_accuracy: 0.0234\n",
      "Epoch 4/10\n",
      "1024/1024 [==============================] - 6s 6ms/step - loss: -4.4132 - accuracy: 0.0186 - val_loss: -8.6922 - val_accuracy: 0.0234\n",
      "Epoch 5/10\n",
      "1024/1024 [==============================] - 8s 8ms/step - loss: -5.8387 - accuracy: 0.0186 - val_loss: -8.7185 - val_accuracy: 0.0234\n",
      "Epoch 6/10\n",
      "1024/1024 [==============================] - 7s 6ms/step - loss: -5.8383 - accuracy: 0.0186 - val_loss: -8.7185 - val_accuracy: 0.0234\n",
      "Epoch 7/10\n",
      "1024/1024 [==============================] - 7s 7ms/step - loss: -5.8383 - accuracy: 0.0186 - val_loss: -8.7185 - val_accuracy: 0.0234\n",
      "Epoch 8/10\n",
      "1024/1024 [==============================] - 6s 6ms/step - loss: -5.8383 - accuracy: 0.0186 - val_loss: -8.7185 - val_accuracy: 0.0234\n",
      "Epoch 9/10\n",
      "1024/1024 [==============================] - 6s 6ms/step - loss: -5.8383 - accuracy: 0.0186 - val_loss: -8.7185 - val_accuracy: 0.0234\n",
      "Epoch 10/10\n",
      "1024/1024 [==============================] - 7s 6ms/step - loss: -5.8383 - accuracy: 0.0186 - val_loss: -8.7185 - val_accuracy: 0.0234\n"
     ]
    },
    {
     "data": {
      "text/plain": [
       "<keras.callbacks.callbacks.History at 0x18a60f2b7b8>"
      ]
     },
     "execution_count": 18,
     "metadata": {},
     "output_type": "execute_result"
    }
   ],
   "source": [
    "data_model.compile(loss='binary_crossentropy', optimizer='Adam', metrics=['accuracy'])\n",
    "data_model.fit(sequences_matrix, y_train, batch_size=128, epochs=10, validation_split=0.2,\n",
    "          class_weight=class_weight)"
   ]
  },
  {
   "cell_type": "code",
   "execution_count": null,
   "metadata": {},
   "outputs": [],
   "source": []
  }
 ],
 "metadata": {
  "kernelspec": {
   "display_name": "Python 3",
   "language": "python",
   "name": "python3"
  },
  "language_info": {
   "codemirror_mode": {
    "name": "ipython",
    "version": 3
   },
   "file_extension": ".py",
   "mimetype": "text/x-python",
   "name": "python",
   "nbconvert_exporter": "python",
   "pygments_lexer": "ipython3",
   "version": "3.7.1"
  }
 },
 "nbformat": 4,
 "nbformat_minor": 4
}
